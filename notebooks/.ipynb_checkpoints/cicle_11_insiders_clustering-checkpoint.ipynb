{
 "cells": [
  {
   "cell_type": "markdown",
   "metadata": {
    "jp-MarkdownHeadingCollapsed": true
   },
   "source": [
    "# <font color = '#00CCFF'> High Value Customer Identification </font>"
   ]
  },
  {
   "cell_type": "markdown",
   "metadata": {},
   "source": [
    "Project Objective: Find significant customers for the business who make high purchases of their favourite products. The organization wants to roll out a loyalty program to the high-value customers after identification of segments. Use the clustering methodology to segment customers into groups:\n",
    "\n",
    "Dataset Description: This is a transnational dataset that contains all the transactions occurring between Nov-2016 to Dec-2017 for a UK-based online retail store.\n",
    "\n",
    "Attribute Description:\n",
    "- InvoiceNo: Invoice number (A 6-digit integral number uniquely assigned to each transaction)\n",
    "- StockCode: Product (item) code\n",
    "- Description: Product (item) name\n",
    "- Quantity: The quantities of each product (item) per transaction\n",
    "- InvoiceDate: The day when each transaction was generated\n",
    "- UnitPrice: Unit price (Product price per unit)\n",
    "- CustomerID: Customer number (Unique ID assigned to each customer)\n",
    "- Country: Country name (The name of the country where each customer resides)"
   ]
  },
  {
   "cell_type": "markdown",
   "metadata": {},
   "source": [
    "### Output:"
   ]
  },
  {
   "cell_type": "markdown",
   "metadata": {},
   "source": [
    "1. A indicação de pessoal para fazer parte do programa de \"INSIDEERS\"\n",
    "2. Relatório com as respostas para as seguintes perguntas:\n",
    "    - Quem são as pessoas elegíveis para participar do programa?\n",
    "    - Quantos clientes farão parte do grupo?\n",
    "    - Quais as principais características desses clientes?\n",
    "    - Qual a porcentagem de contribuição dos inseiders no faturamento?\n",
    "    - Qual a expectativa de faturamento desse grupo para os próximos meses?\n",
    "    - Quais as condições para uma pessoa ser elegível ao grupo?\n",
    "    - Quais as condições para uma pessoa ser removida do grupo?\n",
    "    - Qual a garantia que o programa é melhor que o restante da base?\n",
    "    - Quais ações o time de marketing pode realizar para aumentar o faturamento?"
   ]
  },
  {
   "cell_type": "markdown",
   "metadata": {},
   "source": [
    "# 0. Imports"
   ]
  },
  {
   "cell_type": "markdown",
   "metadata": {},
   "source": [
    "## 0.1. Libraries"
   ]
  },
  {
   "cell_type": "code",
   "execution_count": 1,
   "metadata": {},
   "outputs": [],
   "source": [
    "import pandas as pd\n",
    "import numpy as np\n",
    "\n",
    "import seaborn as sns\n",
    "import matplotlib.pyplot as plt\n",
    "import scikitplot as skplt\n",
    "import plotly.express as px\n",
    "\n",
    "from sklearn.cluster import KMeans, DBSCAN\n",
    "from sklearn.metrics import silhouette_score, silhouette_samples\n",
    "from sklearn.preprocessing import MinMaxScaler\n",
    "from sklearn.decomposition import PCA\n",
    "from sklearn.manifold import TSNE\n",
    "from sklearn.ensemble import RandomForestRegressor\n",
    "from sklearn.mixture import GaussianMixture\n",
    "from sklearn.neighbors import NearestNeighbors\n",
    "\n",
    "from scipy.cluster import hierarchy\n",
    "\n",
    "import umap.umap_ as umap"
   ]
  },
  {
   "cell_type": "markdown",
   "metadata": {},
   "source": [
    "## 0.2. Functions"
   ]
  },
  {
   "cell_type": "markdown",
   "metadata": {},
   "source": [
    "## 0.3. Load dataset"
   ]
  },
  {
   "cell_type": "code",
   "execution_count": 178,
   "metadata": {},
   "outputs": [],
   "source": [
    "path = '/home/ezequiel/Documentos/Comunidade_DS/insiders_clustering/data/raw/Ecommerce.zip'\n",
    "df_raw = pd.read_csv(path, encoding='unicode_escape', compression='zip')\n",
    "df_raw = df_raw.drop(columns=['Unnamed: 8'], axis=1)"
   ]
  },
  {
   "cell_type": "markdown",
   "metadata": {},
   "source": [
    "# 1. Descrição dos dados"
   ]
  },
  {
   "cell_type": "code",
   "execution_count": 179,
   "metadata": {},
   "outputs": [],
   "source": [
    "df1 = df_raw.copy()"
   ]
  },
  {
   "cell_type": "markdown",
   "metadata": {},
   "source": [
    "## 1.1. Rename columns"
   ]
  },
  {
   "cell_type": "code",
   "execution_count": 180,
   "metadata": {},
   "outputs": [],
   "source": [
    "cols = ['invoice_no', 'stock_code', 'description', 'quantity', 'invoice_date', 'unit_price', 'customer_id', 'country']\n",
    "df1.columns = cols"
   ]
  },
  {
   "cell_type": "markdown",
   "metadata": {},
   "source": [
    "## 1.2. Data dimensions"
   ]
  },
  {
   "cell_type": "code",
   "execution_count": 181,
   "metadata": {},
   "outputs": [
    {
     "name": "stdout",
     "output_type": "stream",
     "text": [
      "Number of rows: 541909\n",
      "Number of columns: 8\n"
     ]
    }
   ],
   "source": [
    "print(f'Number of rows: {df1.shape[0]}')\n",
    "print(f'Number of columns: {df1.shape[1]}')"
   ]
  },
  {
   "cell_type": "markdown",
   "metadata": {},
   "source": [
    "## 1.3. Data types"
   ]
  },
  {
   "cell_type": "markdown",
   "metadata": {},
   "source": [
    "InvoiceNo should be a number, but some records have letters"
   ]
  },
  {
   "cell_type": "code",
   "execution_count": 182,
   "metadata": {},
   "outputs": [
    {
     "data": {
      "text/plain": [
       "invoice_no       object\n",
       "stock_code       object\n",
       "description      object\n",
       "quantity          int64\n",
       "invoice_date     object\n",
       "unit_price      float64\n",
       "customer_id     float64\n",
       "country          object\n",
       "dtype: object"
      ]
     },
     "execution_count": 182,
     "metadata": {},
     "output_type": "execute_result"
    }
   ],
   "source": [
    "df1.dtypes"
   ]
  },
  {
   "cell_type": "markdown",
   "metadata": {},
   "source": [
    "## 1.4. Check NA"
   ]
  },
  {
   "cell_type": "code",
   "execution_count": 183,
   "metadata": {},
   "outputs": [
    {
     "data": {
      "text/plain": [
       "invoice_no           0\n",
       "stock_code           0\n",
       "description       1454\n",
       "quantity             0\n",
       "invoice_date         0\n",
       "unit_price           0\n",
       "customer_id     135080\n",
       "country              0\n",
       "dtype: int64"
      ]
     },
     "execution_count": 183,
     "metadata": {},
     "output_type": "execute_result"
    }
   ],
   "source": [
    "df1.isna().sum()"
   ]
  },
  {
   "cell_type": "markdown",
   "metadata": {},
   "source": [
    "## 1.5. Replace NA"
   ]
  },
  {
   "cell_type": "code",
   "execution_count": 184,
   "metadata": {},
   "outputs": [],
   "source": [
    "# Procurar se há algum customer_id \"perdido\" a partir do invoice_no\n",
    "df_missing = df1[df1['customer_id'].isna()]\n",
    "df_not_missing = df1[~df1['customer_id'].isna()]"
   ]
  },
  {
   "cell_type": "code",
   "execution_count": 185,
   "metadata": {},
   "outputs": [],
   "source": [
    "missing_invoice = df_missing['invoice_no'].drop_duplicates().tolist()"
   ]
  },
  {
   "cell_type": "code",
   "execution_count": 186,
   "metadata": {},
   "outputs": [],
   "source": [
    "# Alternativa: atribuir um customer_id não utilizado para cada invoice_no único que não possui customer_id\n",
    "aux = df_missing[['invoice_no']].drop_duplicates()\n",
    "aux['customer_id'] = np.arange(19000, 19000+len(aux), 1)\n",
    "\n",
    "df1 = pd.merge(df1, aux, on='invoice_no', how='left')\n",
    "df1['customer_id'] = df1['customer_id_x'].combine_first(df1['customer_id_y'])\n",
    "df1.drop(columns=['customer_id_x', 'customer_id_y'], inplace=True)"
   ]
  },
  {
   "cell_type": "code",
   "execution_count": 187,
   "metadata": {},
   "outputs": [
    {
     "data": {
      "text/plain": [
       "invoice_no         0\n",
       "stock_code         0\n",
       "description     1454\n",
       "quantity           0\n",
       "invoice_date       0\n",
       "unit_price         0\n",
       "country            0\n",
       "customer_id        0\n",
       "dtype: int64"
      ]
     },
     "execution_count": 187,
     "metadata": {},
     "output_type": "execute_result"
    }
   ],
   "source": [
    "df1.isna().sum()"
   ]
  },
  {
   "cell_type": "code",
   "execution_count": 188,
   "metadata": {},
   "outputs": [],
   "source": [
    "df1 = df1.dropna(subset=['description', 'customer_id'])"
   ]
  },
  {
   "cell_type": "markdown",
   "metadata": {},
   "source": [
    "## 1.6. Change dtyper"
   ]
  },
  {
   "cell_type": "code",
   "execution_count": 189,
   "metadata": {},
   "outputs": [
    {
     "data": {
      "text/plain": [
       "invoice_no       object\n",
       "stock_code       object\n",
       "description      object\n",
       "quantity          int64\n",
       "invoice_date     object\n",
       "unit_price      float64\n",
       "country          object\n",
       "customer_id     float64\n",
       "dtype: object"
      ]
     },
     "execution_count": 189,
     "metadata": {},
     "output_type": "execute_result"
    }
   ],
   "source": [
    "df1.dtypes"
   ]
  },
  {
   "cell_type": "code",
   "execution_count": 190,
   "metadata": {},
   "outputs": [],
   "source": [
    "# invoice_date -> to datetime\n",
    "df1['invoice_date'] = pd.to_datetime(df1['invoice_date'], format='%d-%b-%y')\n",
    "\n",
    "# customer_id -> to int\n",
    "df1['customer_id'] = df1['customer_id'].astype(int)"
   ]
  },
  {
   "cell_type": "markdown",
   "metadata": {},
   "source": [
    "## 1.7. Descriptive statistics"
   ]
  },
  {
   "cell_type": "code",
   "execution_count": 191,
   "metadata": {},
   "outputs": [],
   "source": [
    "num_attributes = df1.select_dtypes(include=['int64', 'float64'])\n",
    "cat_attributes = df1.select_dtypes(include='object')"
   ]
  },
  {
   "cell_type": "markdown",
   "metadata": {},
   "source": [
    "### 1.7.1. Numerical attributes"
   ]
  },
  {
   "cell_type": "code",
   "execution_count": 192,
   "metadata": {},
   "outputs": [
    {
     "data": {
      "text/html": [
       "<div>\n",
       "<style scoped>\n",
       "    .dataframe tbody tr th:only-of-type {\n",
       "        vertical-align: middle;\n",
       "    }\n",
       "\n",
       "    .dataframe tbody tr th {\n",
       "        vertical-align: top;\n",
       "    }\n",
       "\n",
       "    .dataframe thead th {\n",
       "        text-align: right;\n",
       "    }\n",
       "</style>\n",
       "<table border=\"1\" class=\"dataframe\">\n",
       "  <thead>\n",
       "    <tr style=\"text-align: right;\">\n",
       "      <th></th>\n",
       "      <th>index</th>\n",
       "      <th>count</th>\n",
       "      <th>mean</th>\n",
       "      <th>std</th>\n",
       "      <th>min</th>\n",
       "      <th>25%</th>\n",
       "      <th>50%</th>\n",
       "      <th>75%</th>\n",
       "      <th>max</th>\n",
       "      <th>range</th>\n",
       "      <th>median</th>\n",
       "      <th>skewness</th>\n",
       "      <th>kurtosis</th>\n",
       "    </tr>\n",
       "  </thead>\n",
       "  <tbody>\n",
       "    <tr>\n",
       "      <th>0</th>\n",
       "      <td>quantity</td>\n",
       "      <td>540455.0</td>\n",
       "      <td>9.603129</td>\n",
       "      <td>218.007598</td>\n",
       "      <td>-80995.00</td>\n",
       "      <td>1.00</td>\n",
       "      <td>3.00</td>\n",
       "      <td>10.00</td>\n",
       "      <td>80995.0</td>\n",
       "      <td>161990.00</td>\n",
       "      <td>3.00</td>\n",
       "      <td>-0.281253</td>\n",
       "      <td>120252.449063</td>\n",
       "    </tr>\n",
       "    <tr>\n",
       "      <th>1</th>\n",
       "      <td>unit_price</td>\n",
       "      <td>540455.0</td>\n",
       "      <td>4.623519</td>\n",
       "      <td>96.889628</td>\n",
       "      <td>-11062.06</td>\n",
       "      <td>1.25</td>\n",
       "      <td>2.08</td>\n",
       "      <td>4.13</td>\n",
       "      <td>38970.0</td>\n",
       "      <td>50032.06</td>\n",
       "      <td>2.08</td>\n",
       "      <td>186.257919</td>\n",
       "      <td>58848.017575</td>\n",
       "    </tr>\n",
       "    <tr>\n",
       "      <th>2</th>\n",
       "      <td>customer_id</td>\n",
       "      <td>540455.0</td>\n",
       "      <td>16678.153600</td>\n",
       "      <td>2907.572952</td>\n",
       "      <td>12346.00</td>\n",
       "      <td>14364.00</td>\n",
       "      <td>16241.00</td>\n",
       "      <td>18257.00</td>\n",
       "      <td>22709.0</td>\n",
       "      <td>10363.00</td>\n",
       "      <td>16241.00</td>\n",
       "      <td>0.493600</td>\n",
       "      <td>-0.792496</td>\n",
       "    </tr>\n",
       "  </tbody>\n",
       "</table>\n",
       "</div>"
      ],
      "text/plain": [
       "         index     count          mean          std       min       25%  \\\n",
       "0     quantity  540455.0      9.603129   218.007598 -80995.00      1.00   \n",
       "1   unit_price  540455.0      4.623519    96.889628 -11062.06      1.25   \n",
       "2  customer_id  540455.0  16678.153600  2907.572952  12346.00  14364.00   \n",
       "\n",
       "        50%       75%      max      range    median    skewness       kurtosis  \n",
       "0      3.00     10.00  80995.0  161990.00      3.00   -0.281253  120252.449063  \n",
       "1      2.08      4.13  38970.0   50032.06      2.08  186.257919   58848.017575  \n",
       "2  16241.00  18257.00  22709.0   10363.00  16241.00    0.493600      -0.792496  "
      ]
     },
     "execution_count": 192,
     "metadata": {},
     "output_type": "execute_result"
    }
   ],
   "source": [
    "df_describe = num_attributes.describe().T\n",
    "df_describe['range'] = df_describe['max'] - df_describe['min']\n",
    "df_describe['median'] = num_attributes.median()\n",
    "df_describe['skewness'] = num_attributes.skew()\n",
    "df_describe['kurtosis'] = num_attributes.kurtosis()\n",
    "df_describe.reset_index()"
   ]
  },
  {
   "cell_type": "markdown",
   "metadata": {},
   "source": [
    "### 1.7.2. Categorical attributes"
   ]
  },
  {
   "cell_type": "markdown",
   "metadata": {},
   "source": [
    "#### Invoice_no"
   ]
  },
  {
   "cell_type": "code",
   "execution_count": 193,
   "metadata": {},
   "outputs": [
    {
     "name": "stdout",
     "output_type": "stream",
     "text": [
      "Qtd de invoices únicos com letras: 3839\n",
      "Qtd total de invoices com letras 9291\n"
     ]
    }
   ],
   "source": [
    "# verifica se invoice_no contém, ao menos, uma letra e agrupa por invoice_no para o dataframe inteiro\n",
    "aux = df1[df1['invoice_no'].str.contains('[a-zA-Z]')].groupby('invoice_no').count().reset_index()\n",
    "print(f'Qtd de invoices únicos com letras: {len(aux)}')\n",
    "print(f'Qtd total de invoices com letras {aux[\"stock_code\"].sum()}')"
   ]
  },
  {
   "cell_type": "code",
   "execution_count": 194,
   "metadata": {},
   "outputs": [
    {
     "name": "stdout",
     "output_type": "stream",
     "text": [
      "Qtd de invoices com letras onde a quantidade é negativa: 9291\n"
     ]
    }
   ],
   "source": [
    "aux = len(df1.loc[df1['invoice_no'].str.contains('[a-zA-Z]'), ['quantity']])\n",
    "print(f'Qtd de invoices com letras onde a quantidade é negativa: {aux}')"
   ]
  },
  {
   "cell_type": "markdown",
   "metadata": {},
   "source": [
    "#### Stock_code"
   ]
  },
  {
   "cell_type": "code",
   "execution_count": 195,
   "metadata": {},
   "outputs": [
    {
     "data": {
      "text/html": [
       "<div>\n",
       "<style scoped>\n",
       "    .dataframe tbody tr th:only-of-type {\n",
       "        vertical-align: middle;\n",
       "    }\n",
       "\n",
       "    .dataframe tbody tr th {\n",
       "        vertical-align: top;\n",
       "    }\n",
       "\n",
       "    .dataframe thead th {\n",
       "        text-align: right;\n",
       "    }\n",
       "</style>\n",
       "<table border=\"1\" class=\"dataframe\">\n",
       "  <thead>\n",
       "    <tr style=\"text-align: right;\">\n",
       "      <th></th>\n",
       "      <th>invoice_no</th>\n",
       "      <th>stock_code</th>\n",
       "      <th>description</th>\n",
       "      <th>quantity</th>\n",
       "      <th>invoice_date</th>\n",
       "      <th>unit_price</th>\n",
       "      <th>country</th>\n",
       "      <th>customer_id</th>\n",
       "    </tr>\n",
       "  </thead>\n",
       "  <tbody>\n",
       "    <tr>\n",
       "      <th>0</th>\n",
       "      <td>536365</td>\n",
       "      <td>85123A</td>\n",
       "      <td>WHITE HANGING HEART T-LIGHT HOLDER</td>\n",
       "      <td>6</td>\n",
       "      <td>2016-11-29</td>\n",
       "      <td>2.55</td>\n",
       "      <td>United Kingdom</td>\n",
       "      <td>17850</td>\n",
       "    </tr>\n",
       "    <tr>\n",
       "      <th>2</th>\n",
       "      <td>536365</td>\n",
       "      <td>84406B</td>\n",
       "      <td>CREAM CUPID HEARTS COAT HANGER</td>\n",
       "      <td>8</td>\n",
       "      <td>2016-11-29</td>\n",
       "      <td>2.75</td>\n",
       "      <td>United Kingdom</td>\n",
       "      <td>17850</td>\n",
       "    </tr>\n",
       "    <tr>\n",
       "      <th>3</th>\n",
       "      <td>536365</td>\n",
       "      <td>84029G</td>\n",
       "      <td>KNITTED UNION FLAG HOT WATER BOTTLE</td>\n",
       "      <td>6</td>\n",
       "      <td>2016-11-29</td>\n",
       "      <td>3.39</td>\n",
       "      <td>United Kingdom</td>\n",
       "      <td>17850</td>\n",
       "    </tr>\n",
       "    <tr>\n",
       "      <th>4</th>\n",
       "      <td>536365</td>\n",
       "      <td>84029E</td>\n",
       "      <td>RED WOOLLY HOTTIE WHITE HEART.</td>\n",
       "      <td>6</td>\n",
       "      <td>2016-11-29</td>\n",
       "      <td>3.39</td>\n",
       "      <td>United Kingdom</td>\n",
       "      <td>17850</td>\n",
       "    </tr>\n",
       "    <tr>\n",
       "      <th>45</th>\n",
       "      <td>536370</td>\n",
       "      <td>POST</td>\n",
       "      <td>POSTAGE</td>\n",
       "      <td>3</td>\n",
       "      <td>2016-11-29</td>\n",
       "      <td>18.00</td>\n",
       "      <td>France</td>\n",
       "      <td>12583</td>\n",
       "    </tr>\n",
       "    <tr>\n",
       "      <th>...</th>\n",
       "      <td>...</td>\n",
       "      <td>...</td>\n",
       "      <td>...</td>\n",
       "      <td>...</td>\n",
       "      <td>...</td>\n",
       "      <td>...</td>\n",
       "      <td>...</td>\n",
       "      <td>...</td>\n",
       "    </tr>\n",
       "    <tr>\n",
       "      <th>541778</th>\n",
       "      <td>581578</td>\n",
       "      <td>84997C</td>\n",
       "      <td>CHILDRENS CUTLERY POLKADOT BLUE</td>\n",
       "      <td>8</td>\n",
       "      <td>2017-12-07</td>\n",
       "      <td>4.15</td>\n",
       "      <td>Germany</td>\n",
       "      <td>12713</td>\n",
       "    </tr>\n",
       "    <tr>\n",
       "      <th>541809</th>\n",
       "      <td>581579</td>\n",
       "      <td>85099C</td>\n",
       "      <td>JUMBO  BAG BAROQUE BLACK WHITE</td>\n",
       "      <td>10</td>\n",
       "      <td>2017-12-07</td>\n",
       "      <td>1.79</td>\n",
       "      <td>United Kingdom</td>\n",
       "      <td>17581</td>\n",
       "    </tr>\n",
       "    <tr>\n",
       "      <th>541838</th>\n",
       "      <td>581580</td>\n",
       "      <td>84993A</td>\n",
       "      <td>75 GREEN PETIT FOUR CASES</td>\n",
       "      <td>2</td>\n",
       "      <td>2017-12-07</td>\n",
       "      <td>0.42</td>\n",
       "      <td>United Kingdom</td>\n",
       "      <td>12748</td>\n",
       "    </tr>\n",
       "    <tr>\n",
       "      <th>541844</th>\n",
       "      <td>581580</td>\n",
       "      <td>85049A</td>\n",
       "      <td>TRADITIONAL CHRISTMAS RIBBONS</td>\n",
       "      <td>1</td>\n",
       "      <td>2017-12-07</td>\n",
       "      <td>1.25</td>\n",
       "      <td>United Kingdom</td>\n",
       "      <td>12748</td>\n",
       "    </tr>\n",
       "    <tr>\n",
       "      <th>541853</th>\n",
       "      <td>581580</td>\n",
       "      <td>85049E</td>\n",
       "      <td>SCANDINAVIAN REDS RIBBONS</td>\n",
       "      <td>2</td>\n",
       "      <td>2017-12-07</td>\n",
       "      <td>1.25</td>\n",
       "      <td>United Kingdom</td>\n",
       "      <td>12748</td>\n",
       "    </tr>\n",
       "  </tbody>\n",
       "</table>\n",
       "<p>54463 rows × 8 columns</p>\n",
       "</div>"
      ],
      "text/plain": [
       "       invoice_no stock_code                          description  quantity  \\\n",
       "0          536365     85123A   WHITE HANGING HEART T-LIGHT HOLDER         6   \n",
       "2          536365     84406B       CREAM CUPID HEARTS COAT HANGER         8   \n",
       "3          536365     84029G  KNITTED UNION FLAG HOT WATER BOTTLE         6   \n",
       "4          536365     84029E       RED WOOLLY HOTTIE WHITE HEART.         6   \n",
       "45         536370       POST                              POSTAGE         3   \n",
       "...           ...        ...                                  ...       ...   \n",
       "541778     581578     84997C      CHILDRENS CUTLERY POLKADOT BLUE         8   \n",
       "541809     581579     85099C       JUMBO  BAG BAROQUE BLACK WHITE        10   \n",
       "541838     581580     84993A            75 GREEN PETIT FOUR CASES         2   \n",
       "541844     581580     85049A        TRADITIONAL CHRISTMAS RIBBONS         1   \n",
       "541853     581580     85049E            SCANDINAVIAN REDS RIBBONS         2   \n",
       "\n",
       "       invoice_date  unit_price         country  customer_id  \n",
       "0        2016-11-29        2.55  United Kingdom        17850  \n",
       "2        2016-11-29        2.75  United Kingdom        17850  \n",
       "3        2016-11-29        3.39  United Kingdom        17850  \n",
       "4        2016-11-29        3.39  United Kingdom        17850  \n",
       "45       2016-11-29       18.00          France        12583  \n",
       "...             ...         ...             ...          ...  \n",
       "541778   2017-12-07        4.15         Germany        12713  \n",
       "541809   2017-12-07        1.79  United Kingdom        17581  \n",
       "541838   2017-12-07        0.42  United Kingdom        12748  \n",
       "541844   2017-12-07        1.25  United Kingdom        12748  \n",
       "541853   2017-12-07        1.25  United Kingdom        12748  \n",
       "\n",
       "[54463 rows x 8 columns]"
      ]
     },
     "execution_count": 195,
     "metadata": {},
     "output_type": "execute_result"
    }
   ],
   "source": [
    "# verifica se stock_code contém, ao menos, uma letra e conta quantos são\n",
    "df1[df1['stock_code'].str.contains('[a-zA-Z]')]"
   ]
  },
  {
   "cell_type": "code",
   "execution_count": 196,
   "metadata": {},
   "outputs": [
    {
     "data": {
      "text/plain": [
       "stock_code\n",
       "POST            1252\n",
       "DOT              709\n",
       "M                571\n",
       "D                 77\n",
       "S                 63\n",
       "BANK CHARGES      37\n",
       "AMAZONFEE         34\n",
       "CRUK              16\n",
       "DCGSSGIRL         13\n",
       "DCGSSBOY          11\n",
       "PADS               4\n",
       "B                  3\n",
       "m                  1\n",
       "Name: count, dtype: int64"
      ]
     },
     "execution_count": 196,
     "metadata": {},
     "output_type": "execute_result"
    }
   ],
   "source": [
    "# verifica se stock_code contém somente letras e mostra a quantidade de ocorrências\n",
    "df1.loc[~df1['stock_code'].str.contains('[0-9]'), 'stock_code'].value_counts()"
   ]
  },
  {
   "cell_type": "code",
   "execution_count": 197,
   "metadata": {},
   "outputs": [
    {
     "data": {
      "text/plain": [
       "array(['POST', 'D', 'DOT', 'M', 'BANK CHARGES', 'S', 'AMAZONFEE', 'm',\n",
       "       'DCGSSBOY', 'DCGSSGIRL', 'PADS', 'B', 'CRUK'], dtype=object)"
      ]
     },
     "execution_count": 197,
     "metadata": {},
     "output_type": "execute_result"
    }
   ],
   "source": [
    "df1.loc[~df1['stock_code'].str.contains('[0-9]'), 'stock_code'].unique()"
   ]
  },
  {
   "cell_type": "markdown",
   "metadata": {},
   "source": [
    "#### Country"
   ]
  },
  {
   "cell_type": "code",
   "execution_count": 198,
   "metadata": {},
   "outputs": [
    {
     "data": {
      "text/plain": [
       "country\n",
       "United Kingdom          0.914089\n",
       "Germany                 0.017569\n",
       "France                  0.015833\n",
       "EIRE                    0.015165\n",
       "Spain                   0.004687\n",
       "Netherlands             0.004387\n",
       "Belgium                 0.003828\n",
       "Switzerland             0.003704\n",
       "Portugal                0.002811\n",
       "Australia               0.002330\n",
       "Norway                  0.002009\n",
       "Italy                   0.001486\n",
       "Channel Islands         0.001403\n",
       "Finland                 0.001286\n",
       "Cyprus                  0.001151\n",
       "Sweden                  0.000855\n",
       "Unspecified             0.000825\n",
       "Austria                 0.000742\n",
       "Denmark                 0.000720\n",
       "Japan                   0.000662\n",
       "Poland                  0.000631\n",
       "Israel                  0.000550\n",
       "USA                     0.000538\n",
       "Hong Kong               0.000533\n",
       "Singapore               0.000424\n",
       "Iceland                 0.000337\n",
       "Canada                  0.000279\n",
       "Greece                  0.000270\n",
       "Malta                   0.000235\n",
       "United Arab Emirates    0.000126\n",
       "European Community      0.000113\n",
       "RSA                     0.000107\n",
       "Lebanon                 0.000083\n",
       "Lithuania               0.000065\n",
       "Brazil                  0.000059\n",
       "Czech Republic          0.000056\n",
       "Bahrain                 0.000035\n",
       "Saudi Arabia            0.000019\n",
       "Name: proportion, dtype: float64"
      ]
     },
     "execution_count": 198,
     "metadata": {},
     "output_type": "execute_result"
    }
   ],
   "source": [
    "df1['country'].value_counts(normalize=True)"
   ]
  },
  {
   "cell_type": "markdown",
   "metadata": {},
   "source": [
    "# 2. Variables Filtering"
   ]
  },
  {
   "cell_type": "code",
   "execution_count": 274,
   "metadata": {},
   "outputs": [],
   "source": [
    "df2 = df1.copy()"
   ]
  },
  {
   "cell_type": "code",
   "execution_count": 275,
   "metadata": {},
   "outputs": [],
   "source": [
    "# selecionar somente preços maiores que 4 centavo\n",
    "df2 = df2.query('unit_price >= 0.04')"
   ]
  },
  {
   "cell_type": "code",
   "execution_count": 276,
   "metadata": {},
   "outputs": [],
   "source": [
    "# retirar alguns stock_codes\n",
    "#codes = ['POST', 'D', 'DOT', 'M', 'BANK CHARGES', 'S', 'AMAZONFEE', 'm', 'DCGSSBOY', 'DCGSSGIRL', 'PADS', 'B', 'CRUK']\n",
    "codes = ['POST', 'D', 'DOT', 'M', 'S', 'AMAZONFEE', 'm', 'DCGSSBOY', 'DCGSSGIRL', 'PADS', 'B', 'CRUK']\n",
    "df2 = df2.query('stock_code != @codes')"
   ]
  },
  {
   "cell_type": "code",
   "execution_count": 277,
   "metadata": {},
   "outputs": [],
   "source": [
    "df2 = df2.drop(columns='description')"
   ]
  },
  {
   "cell_type": "code",
   "execution_count": 278,
   "metadata": {},
   "outputs": [],
   "source": [
    "drop_country = ['European Community', 'Unspecified']\n",
    "df2 = df2.query('country != @drop_country')"
   ]
  },
  {
   "cell_type": "code",
   "execution_count": 279,
   "metadata": {},
   "outputs": [],
   "source": [
    "# Bad users\n",
    "bad_users = [16446]\n",
    "df2 = df2.query('customer_id != @bad_users')"
   ]
  },
  {
   "cell_type": "code",
   "execution_count": 280,
   "metadata": {},
   "outputs": [],
   "source": [
    "# separar as quantidades negativas como devoluções (cancelamentos)\n",
    "df2_returns = df2.query('quantity < 0')\n",
    "df2_purchases = df2.query('quantity >= 0')"
   ]
  },
  {
   "cell_type": "markdown",
   "metadata": {},
   "source": [
    "# 3. Feature Engineering"
   ]
  },
  {
   "cell_type": "code",
   "execution_count": 281,
   "metadata": {},
   "outputs": [],
   "source": [
    "df3 = df2.copy()"
   ]
  },
  {
   "cell_type": "code",
   "execution_count": 282,
   "metadata": {},
   "outputs": [],
   "source": [
    "# data reference - group by customer\n",
    "#df_ref = df3[['customer_id']].drop_duplicates(ignore_index=True)\n",
    "df_ref = df3.drop( ['invoice_no', 'stock_code', 'quantity', 'invoice_date', 'unit_price', 'country'], axis=1 ).drop_duplicates( ignore_index=True )"
   ]
  },
  {
   "cell_type": "code",
   "execution_count": 284,
   "metadata": {},
   "outputs": [
    {
     "data": {
      "text/html": [
       "<div>\n",
       "<style scoped>\n",
       "    .dataframe tbody tr th:only-of-type {\n",
       "        vertical-align: middle;\n",
       "    }\n",
       "\n",
       "    .dataframe tbody tr th {\n",
       "        vertical-align: top;\n",
       "    }\n",
       "\n",
       "    .dataframe thead th {\n",
       "        text-align: right;\n",
       "    }\n",
       "</style>\n",
       "<table border=\"1\" class=\"dataframe\">\n",
       "  <thead>\n",
       "    <tr style=\"text-align: right;\">\n",
       "      <th></th>\n",
       "      <th>customer_id</th>\n",
       "    </tr>\n",
       "  </thead>\n",
       "  <tbody>\n",
       "    <tr>\n",
       "      <th>0</th>\n",
       "      <td>17850</td>\n",
       "    </tr>\n",
       "    <tr>\n",
       "      <th>1</th>\n",
       "      <td>13047</td>\n",
       "    </tr>\n",
       "    <tr>\n",
       "      <th>2</th>\n",
       "      <td>12583</td>\n",
       "    </tr>\n",
       "    <tr>\n",
       "      <th>3</th>\n",
       "      <td>13748</td>\n",
       "    </tr>\n",
       "    <tr>\n",
       "      <th>4</th>\n",
       "      <td>15100</td>\n",
       "    </tr>\n",
       "  </tbody>\n",
       "</table>\n",
       "</div>"
      ],
      "text/plain": [
       "   customer_id\n",
       "0        17850\n",
       "1        13047\n",
       "2        12583\n",
       "3        13748\n",
       "4        15100"
      ]
     },
     "execution_count": 284,
     "metadata": {},
     "output_type": "execute_result"
    }
   ],
   "source": [
    "df_ref.head()"
   ]
  },
  {
   "cell_type": "markdown",
   "metadata": {},
   "source": [
    "#### **Gross revenue (Faturamento)**\n",
    "\n",
    "Faturamento para cada produto = quantidade x preço"
   ]
  },
  {
   "cell_type": "code",
   "execution_count": 285,
   "metadata": {},
   "outputs": [
    {
     "name": "stderr",
     "output_type": "stream",
     "text": [
      "/tmp/ipykernel_7473/2099251183.py:1: SettingWithCopyWarning: \n",
      "A value is trying to be set on a copy of a slice from a DataFrame.\n",
      "Try using .loc[row_indexer,col_indexer] = value instead\n",
      "\n",
      "See the caveats in the documentation: https://pandas.pydata.org/pandas-docs/stable/user_guide/indexing.html#returning-a-view-versus-a-copy\n",
      "  df2_purchases['gross_revenue'] = df2_purchases['quantity'] * df2_purchases['unit_price']\n"
     ]
    }
   ],
   "source": [
    "df2_purchases['gross_revenue'] = df2_purchases['quantity'] * df2_purchases['unit_price']"
   ]
  },
  {
   "cell_type": "code",
   "execution_count": 286,
   "metadata": {},
   "outputs": [],
   "source": [
    "# total value of purchases per customer\n",
    "df_monetary = df2_purchases[['customer_id', 'gross_revenue']].groupby('customer_id').sum().reset_index()\n",
    "df_ref = pd.merge(df_ref, df_monetary, on='customer_id', how='left')"
   ]
  },
  {
   "cell_type": "code",
   "execution_count": 288,
   "metadata": {},
   "outputs": [
    {
     "data": {
      "text/plain": [
       "customer_id       0\n",
       "gross_revenue    91\n",
       "dtype: int64"
      ]
     },
     "execution_count": 288,
     "metadata": {},
     "output_type": "execute_result"
    }
   ],
   "source": [
    "df_ref.isna().sum()"
   ]
  },
  {
   "cell_type": "markdown",
   "metadata": {},
   "source": [
    "#### **Recency**\n",
    "\n",
    "How recent is the last purchase made by each customer."
   ]
  },
  {
   "cell_type": "code",
   "execution_count": 289,
   "metadata": {},
   "outputs": [],
   "source": [
    "# find the last purchase date of each customer and subtracts of the overall last purchase date\n",
    "df_last_purchase = df2_purchases[['customer_id', 'invoice_date']].groupby('customer_id').max().reset_index()\n",
    "df_last_purchase['recency'] = (df_last_purchase['invoice_date'].max() - df_last_purchase['invoice_date']).dt.days\n",
    "df_ref = pd.merge(df_ref, df_last_purchase, on='customer_id', how='left')"
   ]
  },
  {
   "cell_type": "markdown",
   "metadata": {},
   "source": [
    "#### **Quantity of products purchased**"
   ]
  },
  {
   "cell_type": "code",
   "execution_count": 290,
   "metadata": {},
   "outputs": [],
   "source": [
    "aux = df2_purchases.loc[:, ['customer_id', 'stock_code']].groupby('customer_id').count().reset_index().rename(columns={'stock_code': 'qtd_products'})\n",
    "df_ref = pd.merge(df_ref, aux, on='customer_id', how='left')"
   ]
  },
  {
   "cell_type": "markdown",
   "metadata": {},
   "source": [
    "#### **Frequency purchase**"
   ]
  },
  {
   "cell_type": "code",
   "execution_count": 291,
   "metadata": {},
   "outputs": [],
   "source": [
    "df_aux = df3[['customer_id', 'invoice_no', 'invoice_date']].drop_duplicates().groupby('customer_id').agg(\n",
    "                                                            max_inv_date = ('invoice_date', max),\n",
    "                                                            min_inv_date = ('invoice_date', min),\n",
    "                                                            days = ('invoice_date', lambda x: (x.max() - x.min()).days + 1),\n",
    "                                                            buy = ('invoice_no', 'count')).reset_index()"
   ]
  },
  {
   "cell_type": "code",
   "execution_count": 292,
   "metadata": {},
   "outputs": [],
   "source": [
    "# Frequency\n",
    "df_aux['frequency'] = df_aux[['buy', 'days']].apply(lambda x: x['buy']/x['days'] if x['days'] != 0 else 0, axis=1)"
   ]
  },
  {
   "cell_type": "code",
   "execution_count": 293,
   "metadata": {},
   "outputs": [],
   "source": [
    "df_ref = pd.merge(df_ref, df_aux[['customer_id', 'frequency']], on='customer_id', how='left')"
   ]
  },
  {
   "cell_type": "markdown",
   "metadata": {},
   "source": [
    "#### **Number of returns**"
   ]
  },
  {
   "cell_type": "code",
   "execution_count": 294,
   "metadata": {},
   "outputs": [],
   "source": [
    "df_returns = df2_returns[['customer_id', 'quantity']].groupby('customer_id').sum().reset_index().rename(columns={'quantity': 'returns'})\n",
    "df_returns['returns'] = df_returns['returns'] * -1"
   ]
  },
  {
   "cell_type": "code",
   "execution_count": 295,
   "metadata": {},
   "outputs": [],
   "source": [
    "df_ref= pd.merge(df_ref, df_returns, on='customer_id', how='left')\n",
    "df_ref.loc[df_ref['returns'].isna(), 'returns'] = 0"
   ]
  },
  {
   "cell_type": "code",
   "execution_count": 296,
   "metadata": {},
   "outputs": [],
   "source": [
    "df_ref.drop(columns=['invoice_date'], inplace=True)"
   ]
  },
  {
   "cell_type": "code",
   "execution_count": 297,
   "metadata": {},
   "outputs": [
    {
     "data": {
      "text/plain": [
       "customer_id       0\n",
       "gross_revenue    91\n",
       "recency          91\n",
       "qtd_products     91\n",
       "frequency         0\n",
       "returns           0\n",
       "dtype: int64"
      ]
     },
     "execution_count": 297,
     "metadata": {},
     "output_type": "execute_result"
    }
   ],
   "source": [
    "df_ref.isna().sum()"
   ]
  },
  {
   "cell_type": "markdown",
   "metadata": {},
   "source": [
    "# 4. EDA (Exploratory Data Analysis)"
   ]
  },
  {
   "cell_type": "code",
   "execution_count": 298,
   "metadata": {},
   "outputs": [],
   "source": [
    "df4 = df_ref.dropna()"
   ]
  },
  {
   "cell_type": "markdown",
   "metadata": {},
   "source": [
    "## 4.3. Estudo do Espaço"
   ]
  },
  {
   "cell_type": "code",
   "execution_count": 299,
   "metadata": {},
   "outputs": [],
   "source": [
    "cols_selected = ['customer_id', 'gross_revenue', 'recency', 'qtd_products', 'frequency', 'returns']\n",
    "df43 = df4[cols_selected].copy()"
   ]
  },
  {
   "cell_type": "code",
   "execution_count": 300,
   "metadata": {},
   "outputs": [
    {
     "data": {
      "text/plain": [
       "Index(['customer_id', 'gross_revenue', 'recency', 'qtd_products', 'frequency',\n",
       "       'returns'],\n",
       "      dtype='object')"
      ]
     },
     "execution_count": 300,
     "metadata": {},
     "output_type": "execute_result"
    }
   ],
   "source": [
    "df43.columns"
   ]
  },
  {
   "cell_type": "code",
   "execution_count": 301,
   "metadata": {},
   "outputs": [],
   "source": [
    "mm = MinMaxScaler()"
   ]
  },
  {
   "cell_type": "code",
   "execution_count": 302,
   "metadata": {},
   "outputs": [],
   "source": [
    "df43['gross_revenue'] = mm.fit_transform(df43[['gross_revenue']])\n",
    "df43['recency'] = mm.fit_transform(df43[['recency']])\n",
    "df43['qtd_products'] = mm.fit_transform(df43[['qtd_products']])\n",
    "df43['frequency'] = mm.fit_transform(df43[['frequency']])\n",
    "df43['returns'] = mm.fit_transform(df43[['returns']])"
   ]
  },
  {
   "cell_type": "markdown",
   "metadata": {},
   "source": [
    "### 4.3.4. Tree-Based Embedding"
   ]
  },
  {
   "cell_type": "code",
   "execution_count": 313,
   "metadata": {},
   "outputs": [],
   "source": [
    "#X = df4.drop(columns=['customer_id','gross_revenue'])\n",
    "#y = df4['gross_revenue']\n",
    "\n",
    "X = df43.drop(columns=['customer_id','gross_revenue'], axis=1)\n",
    "y = df43['gross_revenue']"
   ]
  },
  {
   "cell_type": "code",
   "execution_count": 314,
   "metadata": {},
   "outputs": [
    {
     "data": {
      "text/html": [
       "<div>\n",
       "<style scoped>\n",
       "    .dataframe tbody tr th:only-of-type {\n",
       "        vertical-align: middle;\n",
       "    }\n",
       "\n",
       "    .dataframe tbody tr th {\n",
       "        vertical-align: top;\n",
       "    }\n",
       "\n",
       "    .dataframe thead th {\n",
       "        text-align: right;\n",
       "    }\n",
       "</style>\n",
       "<table border=\"1\" class=\"dataframe\">\n",
       "  <thead>\n",
       "    <tr style=\"text-align: right;\">\n",
       "      <th></th>\n",
       "      <th>recency</th>\n",
       "      <th>qtd_products</th>\n",
       "      <th>frequency</th>\n",
       "      <th>returns</th>\n",
       "    </tr>\n",
       "  </thead>\n",
       "  <tbody>\n",
       "    <tr>\n",
       "      <th>0</th>\n",
       "      <td>0.997319</td>\n",
       "      <td>0.037770</td>\n",
       "      <td>0.096237</td>\n",
       "      <td>0.000539</td>\n",
       "    </tr>\n",
       "    <tr>\n",
       "      <th>1</th>\n",
       "      <td>0.150134</td>\n",
       "      <td>0.021692</td>\n",
       "      <td>0.008676</td>\n",
       "      <td>0.000472</td>\n",
       "    </tr>\n",
       "    <tr>\n",
       "      <th>2</th>\n",
       "      <td>0.005362</td>\n",
       "      <td>0.029476</td>\n",
       "      <td>0.008059</td>\n",
       "      <td>0.000674</td>\n",
       "    </tr>\n",
       "    <tr>\n",
       "      <th>3</th>\n",
       "      <td>0.254692</td>\n",
       "      <td>0.003445</td>\n",
       "      <td>0.002497</td>\n",
       "      <td>0.000000</td>\n",
       "    </tr>\n",
       "    <tr>\n",
       "      <th>4</th>\n",
       "      <td>0.892761</td>\n",
       "      <td>0.000255</td>\n",
       "      <td>0.026211</td>\n",
       "      <td>0.000296</td>\n",
       "    </tr>\n",
       "    <tr>\n",
       "      <th>...</th>\n",
       "      <td>...</td>\n",
       "      <td>...</td>\n",
       "      <td>...</td>\n",
       "      <td>...</td>\n",
       "    </tr>\n",
       "    <tr>\n",
       "      <th>5781</th>\n",
       "      <td>0.002681</td>\n",
       "      <td>0.080771</td>\n",
       "      <td>0.199127</td>\n",
       "      <td>0.000000</td>\n",
       "    </tr>\n",
       "    <tr>\n",
       "      <th>5782</th>\n",
       "      <td>0.000000</td>\n",
       "      <td>0.093020</td>\n",
       "      <td>0.199127</td>\n",
       "      <td>0.000000</td>\n",
       "    </tr>\n",
       "    <tr>\n",
       "      <th>5783</th>\n",
       "      <td>0.000000</td>\n",
       "      <td>0.007401</td>\n",
       "      <td>0.199127</td>\n",
       "      <td>0.000000</td>\n",
       "    </tr>\n",
       "    <tr>\n",
       "      <th>5784</th>\n",
       "      <td>0.000000</td>\n",
       "      <td>0.027562</td>\n",
       "      <td>0.199127</td>\n",
       "      <td>0.000000</td>\n",
       "    </tr>\n",
       "    <tr>\n",
       "      <th>5785</th>\n",
       "      <td>0.000000</td>\n",
       "      <td>0.004594</td>\n",
       "      <td>0.199127</td>\n",
       "      <td>0.000000</td>\n",
       "    </tr>\n",
       "  </tbody>\n",
       "</table>\n",
       "<p>5695 rows × 4 columns</p>\n",
       "</div>"
      ],
      "text/plain": [
       "       recency  qtd_products  frequency   returns\n",
       "0     0.997319      0.037770   0.096237  0.000539\n",
       "1     0.150134      0.021692   0.008676  0.000472\n",
       "2     0.005362      0.029476   0.008059  0.000674\n",
       "3     0.254692      0.003445   0.002497  0.000000\n",
       "4     0.892761      0.000255   0.026211  0.000296\n",
       "...        ...           ...        ...       ...\n",
       "5781  0.002681      0.080771   0.199127  0.000000\n",
       "5782  0.000000      0.093020   0.199127  0.000000\n",
       "5783  0.000000      0.007401   0.199127  0.000000\n",
       "5784  0.000000      0.027562   0.199127  0.000000\n",
       "5785  0.000000      0.004594   0.199127  0.000000\n",
       "\n",
       "[5695 rows x 4 columns]"
      ]
     },
     "execution_count": 314,
     "metadata": {},
     "output_type": "execute_result"
    }
   ],
   "source": [
    "X"
   ]
  },
  {
   "cell_type": "code",
   "execution_count": 317,
   "metadata": {},
   "outputs": [],
   "source": [
    "rf_model = RandomForestRegressor(n_estimators=100, random_state=32)\n",
    "\n",
    "rf_model.fit(X, y)\n",
    "\n",
    "df_leaf = pd.DataFrame(rf_model.apply(X))\n",
    "# Retorna uma tabela onde as colunas representam uma árvore e as linhas, cada customer.\n",
    "# O Valor retornado é o índice da folha que aquele customer se encontra, naquela árvore indicada pela coluna"
   ]
  },
  {
   "cell_type": "code",
   "execution_count": 318,
   "metadata": {},
   "outputs": [
    {
     "name": "stderr",
     "output_type": "stream",
     "text": [
      "/home/ezequiel/.pyenv/versions/ins_clustering/lib/python3.10/site-packages/umap/umap_.py:1943: UserWarning: n_jobs value -1 overridden to 1 by setting random_state. Use no seed for parallelism.\n",
      "  warn(f\"n_jobs value {self.n_jobs} overridden to 1 by setting random_state. Use no seed for parallelism.\")\n"
     ]
    },
    {
     "name": "stderr",
     "output_type": "stream",
     "text": [
      "/home/ezequiel/.pyenv/versions/ins_clustering/lib/python3.10/site-packages/sklearn/manifold/_spectral_embedding.py:273: UserWarning: Graph is not fully connected, spectral embedding may not work as expected.\n",
      "  warnings.warn(\n"
     ]
    },
    {
     "data": {
      "text/plain": [
       "<Axes: xlabel='embedding_x', ylabel='embedding_y'>"
      ]
     },
     "execution_count": 318,
     "metadata": {},
     "output_type": "execute_result"
    },
    {
     "data": {
      "image/png": "[encoded data removed]",
      "text/plain": [
       "<Figure size 800x550 with 1 Axes>"
      ]
     },
     "metadata": {},
     "output_type": "display_data"
    }
   ],
   "source": [
    "# Redução de dimensionalidade\n",
    "reducer = umap.UMAP(random_state=32)\n",
    "embedding = reducer.fit_transform(df_leaf)\n",
    "\n",
    "df_tree = pd.DataFrame()\n",
    "df_tree['embedding_x'] = embedding[:, 0]\n",
    "df_tree['embedding_y'] = embedding[:, 1]\n",
    "sns.scatterplot(x='embedding_x',\n",
    "                y='embedding_y',\n",
    "                data=df_tree)"
   ]
  },
  {
   "cell_type": "markdown",
   "metadata": {},
   "source": [
    "# 5. Data Preparation"
   ]
  },
  {
   "cell_type": "markdown",
   "metadata": {},
   "source": [
    "**Dica:**\n",
    "\n",
    "Rescale vs. Standardization\n",
    "1. Se os dados possuem distribuição normal e não possui outlier -> Standard scaler\n",
    "2. Se os dados possuem distribuição normal e possui outlier -> Robust scaler\n",
    "3. Se os dados não possuem distribuição normal -> MinMax scaler\n",
    "\n",
    "Rescale --> $\\frac{Valor - min(Valor)}{max(Valor) - min(Valor)}$ --> Adimensional\n",
    " \n",
    "Standardization --> $\\frac{Valor - média(Valor)}{desvioPadrao(Valor)}$ --> Adimensional\n",
    "\n",
    "**Testes de Normalização:**\n",
    "\n",
    "* QQ Plot - Quantile Quantile Plot (quantil teorico vs. quantil real)\n",
    "* KS Test - Kolgomorov Smirnoff (teste de hipóteses):\n",
    "    * p-value > 0.5, distribuição normal\n",
    "    * p-value < 0.5, distribuição não normal\n",
    "\n",
    "**Detecção de Outliers:**\n",
    "* Boxplot --> pontos são identificados como outliers\n",
    "* Pontos acima da distância interquartil X 2,5 --> outliers\n",
    "* Z-score > 3 ou Z-score < -3 --> outliers"
   ]
  },
  {
   "cell_type": "code",
   "execution_count": 261,
   "metadata": {},
   "outputs": [],
   "source": [
    "df5 = df_tree.copy()"
   ]
  },
  {
   "cell_type": "markdown",
   "metadata": {},
   "source": [
    "# 7. Hyperparameter Fine Tunning"
   ]
  },
  {
   "cell_type": "code",
   "execution_count": 307,
   "metadata": {},
   "outputs": [],
   "source": [
    "X = df_tree.copy()"
   ]
  },
  {
   "cell_type": "code",
   "execution_count": 308,
   "metadata": {},
   "outputs": [
    {
     "data": {
      "text/html": [
       "<div>\n",
       "<style scoped>\n",
       "    .dataframe tbody tr th:only-of-type {\n",
       "        vertical-align: middle;\n",
       "    }\n",
       "\n",
       "    .dataframe tbody tr th {\n",
       "        vertical-align: top;\n",
       "    }\n",
       "\n",
       "    .dataframe thead th {\n",
       "        text-align: right;\n",
       "    }\n",
       "</style>\n",
       "<table border=\"1\" class=\"dataframe\">\n",
       "  <thead>\n",
       "    <tr style=\"text-align: right;\">\n",
       "      <th></th>\n",
       "      <th>embedding_x</th>\n",
       "      <th>embedding_y</th>\n",
       "    </tr>\n",
       "  </thead>\n",
       "  <tbody>\n",
       "    <tr>\n",
       "      <th>0</th>\n",
       "      <td>19.082258</td>\n",
       "      <td>-4.247802</td>\n",
       "    </tr>\n",
       "    <tr>\n",
       "      <th>1</th>\n",
       "      <td>13.121947</td>\n",
       "      <td>0.211482</td>\n",
       "    </tr>\n",
       "    <tr>\n",
       "      <th>2</th>\n",
       "      <td>18.795271</td>\n",
       "      <td>-3.947396</td>\n",
       "    </tr>\n",
       "    <tr>\n",
       "      <th>3</th>\n",
       "      <td>6.923577</td>\n",
       "      <td>11.793840</td>\n",
       "    </tr>\n",
       "    <tr>\n",
       "      <th>4</th>\n",
       "      <td>-0.055120</td>\n",
       "      <td>-0.573797</td>\n",
       "    </tr>\n",
       "  </tbody>\n",
       "</table>\n",
       "</div>"
      ],
      "text/plain": [
       "   embedding_x  embedding_y\n",
       "0    19.082258    -4.247802\n",
       "1    13.121947     0.211482\n",
       "2    18.795271    -3.947396\n",
       "3     6.923577    11.793840\n",
       "4    -0.055120    -0.573797"
      ]
     },
     "execution_count": 308,
     "metadata": {},
     "output_type": "execute_result"
    }
   ],
   "source": [
    "X.head()"
   ]
  },
  {
   "cell_type": "markdown",
   "metadata": {},
   "source": [
    "# 8. Model Training"
   ]
  },
  {
   "cell_type": "markdown",
   "metadata": {},
   "source": [
    "## 8.1. Final model - GMM"
   ]
  },
  {
   "cell_type": "code",
   "execution_count": 309,
   "metadata": {},
   "outputs": [],
   "source": [
    "k = 8\n",
    "gmm_model = GaussianMixture(n_components=k, n_init=300, random_state=32)\n",
    "gmm_model.fit(X)\n",
    "labels = gmm_model.predict(X)"
   ]
  },
  {
   "cell_type": "markdown",
   "metadata": {},
   "source": [
    "## 8.2. Cluster Validation"
   ]
  },
  {
   "cell_type": "code",
   "execution_count": 310,
   "metadata": {},
   "outputs": [
    {
     "name": "stdout",
     "output_type": "stream",
     "text": [
      "SS value: 0.37261664867401123\n"
     ]
    }
   ],
   "source": [
    "print(f'SS value: {silhouette_score(X, labels=labels, metric=\"euclidean\")}')"
   ]
  },
  {
   "cell_type": "markdown",
   "metadata": {},
   "source": [
    "# 9. Cluster Analisys"
   ]
  },
  {
   "cell_type": "code",
   "execution_count": 311,
   "metadata": {},
   "outputs": [
    {
     "data": {
      "text/html": [
       "<div>\n",
       "<style scoped>\n",
       "    .dataframe tbody tr th:only-of-type {\n",
       "        vertical-align: middle;\n",
       "    }\n",
       "\n",
       "    .dataframe tbody tr th {\n",
       "        vertical-align: top;\n",
       "    }\n",
       "\n",
       "    .dataframe thead th {\n",
       "        text-align: right;\n",
       "    }\n",
       "</style>\n",
       "<table border=\"1\" class=\"dataframe\">\n",
       "  <thead>\n",
       "    <tr style=\"text-align: right;\">\n",
       "      <th></th>\n",
       "      <th>embedding_x</th>\n",
       "      <th>embedding_y</th>\n",
       "      <th>cluster</th>\n",
       "    </tr>\n",
       "  </thead>\n",
       "  <tbody>\n",
       "    <tr>\n",
       "      <th>0</th>\n",
       "      <td>19.082258</td>\n",
       "      <td>-4.247802</td>\n",
       "      <td>6</td>\n",
       "    </tr>\n",
       "    <tr>\n",
       "      <th>1</th>\n",
       "      <td>13.121947</td>\n",
       "      <td>0.211482</td>\n",
       "      <td>6</td>\n",
       "    </tr>\n",
       "    <tr>\n",
       "      <th>2</th>\n",
       "      <td>18.795271</td>\n",
       "      <td>-3.947396</td>\n",
       "      <td>6</td>\n",
       "    </tr>\n",
       "    <tr>\n",
       "      <th>3</th>\n",
       "      <td>6.923577</td>\n",
       "      <td>11.793840</td>\n",
       "      <td>7</td>\n",
       "    </tr>\n",
       "    <tr>\n",
       "      <th>4</th>\n",
       "      <td>-0.055120</td>\n",
       "      <td>-0.573797</td>\n",
       "      <td>0</td>\n",
       "    </tr>\n",
       "  </tbody>\n",
       "</table>\n",
       "</div>"
      ],
      "text/plain": [
       "   embedding_x  embedding_y  cluster\n",
       "0    19.082258    -4.247802        6\n",
       "1    13.121947     0.211482        6\n",
       "2    18.795271    -3.947396        6\n",
       "3     6.923577    11.793840        7\n",
       "4    -0.055120    -0.573797        0"
      ]
     },
     "execution_count": 311,
     "metadata": {},
     "output_type": "execute_result"
    }
   ],
   "source": [
    "df9 = X.copy()\n",
    "#df9 = df7.copy()\n",
    "df9['cluster'] = labels\n",
    "df9.head()"
   ]
  },
  {
   "cell_type": "markdown",
   "metadata": {},
   "source": [
    "## 9.1. Visualization"
   ]
  },
  {
   "cell_type": "code",
   "execution_count": 312,
   "metadata": {},
   "outputs": [
    {
     "data": {
      "text/plain": [
       "<Axes: xlabel='embedding_x', ylabel='embedding_y'>"
      ]
     },
     "execution_count": 312,
     "metadata": {},
     "output_type": "execute_result"
    },
    {
     "data": {
      "image/png": "[encoded data removed]",
      "text/plain": [
       "<Figure size 800x550 with 1 Axes>"
      ]
     },
     "metadata": {},
     "output_type": "display_data"
    }
   ],
   "source": [
    "sns.scatterplot(data=df9, x='embedding_x', y='embedding_y', hue='cluster', palette='deep')"
   ]
  },
  {
   "cell_type": "markdown",
   "metadata": {},
   "source": [
    "## 9.2. Cluster profile"
   ]
  },
  {
   "cell_type": "code",
   "execution_count": 268,
   "metadata": {},
   "outputs": [],
   "source": [
    "# Saindo do espaço de embedding para o espaço de features\n",
    "df92 = df4[cols_selected].copy()\n",
    "df92['cluster'] = labels"
   ]
  },
  {
   "cell_type": "code",
   "execution_count": 269,
   "metadata": {},
   "outputs": [
    {
     "data": {
      "text/html": [
       "<div>\n",
       "<style scoped>\n",
       "    .dataframe tbody tr th:only-of-type {\n",
       "        vertical-align: middle;\n",
       "    }\n",
       "\n",
       "    .dataframe tbody tr th {\n",
       "        vertical-align: top;\n",
       "    }\n",
       "\n",
       "    .dataframe thead th {\n",
       "        text-align: right;\n",
       "    }\n",
       "</style>\n",
       "<table border=\"1\" class=\"dataframe\">\n",
       "  <thead>\n",
       "    <tr style=\"text-align: right;\">\n",
       "      <th></th>\n",
       "      <th>customer_id</th>\n",
       "      <th>gross_revenue</th>\n",
       "      <th>recency</th>\n",
       "      <th>qtd_products</th>\n",
       "      <th>frequency</th>\n",
       "      <th>returns</th>\n",
       "      <th>cluster</th>\n",
       "    </tr>\n",
       "  </thead>\n",
       "  <tbody>\n",
       "    <tr>\n",
       "      <th>0</th>\n",
       "      <td>17850</td>\n",
       "      <td>5391.21</td>\n",
       "      <td>372.0</td>\n",
       "      <td>297.0</td>\n",
       "      <td>0.486111</td>\n",
       "      <td>40.0</td>\n",
       "      <td>1</td>\n",
       "    </tr>\n",
       "    <tr>\n",
       "      <th>1</th>\n",
       "      <td>13047</td>\n",
       "      <td>3232.59</td>\n",
       "      <td>56.0</td>\n",
       "      <td>171.0</td>\n",
       "      <td>0.048780</td>\n",
       "      <td>35.0</td>\n",
       "      <td>1</td>\n",
       "    </tr>\n",
       "    <tr>\n",
       "      <th>2</th>\n",
       "      <td>12583</td>\n",
       "      <td>6705.38</td>\n",
       "      <td>2.0</td>\n",
       "      <td>232.0</td>\n",
       "      <td>0.045699</td>\n",
       "      <td>50.0</td>\n",
       "      <td>1</td>\n",
       "    </tr>\n",
       "    <tr>\n",
       "      <th>3</th>\n",
       "      <td>13748</td>\n",
       "      <td>948.25</td>\n",
       "      <td>95.0</td>\n",
       "      <td>28.0</td>\n",
       "      <td>0.017921</td>\n",
       "      <td>0.0</td>\n",
       "      <td>4</td>\n",
       "    </tr>\n",
       "    <tr>\n",
       "      <th>4</th>\n",
       "      <td>15100</td>\n",
       "      <td>876.00</td>\n",
       "      <td>333.0</td>\n",
       "      <td>3.0</td>\n",
       "      <td>0.136364</td>\n",
       "      <td>22.0</td>\n",
       "      <td>5</td>\n",
       "    </tr>\n",
       "  </tbody>\n",
       "</table>\n",
       "</div>"
      ],
      "text/plain": [
       "   customer_id  gross_revenue  recency  qtd_products  frequency  returns  \\\n",
       "0        17850        5391.21    372.0         297.0   0.486111     40.0   \n",
       "1        13047        3232.59     56.0         171.0   0.048780     35.0   \n",
       "2        12583        6705.38      2.0         232.0   0.045699     50.0   \n",
       "3        13748         948.25     95.0          28.0   0.017921      0.0   \n",
       "4        15100         876.00    333.0           3.0   0.136364     22.0   \n",
       "\n",
       "   cluster  \n",
       "0        1  \n",
       "1        1  \n",
       "2        1  \n",
       "3        4  \n",
       "4        5  "
      ]
     },
     "execution_count": 269,
     "metadata": {},
     "output_type": "execute_result"
    }
   ],
   "source": [
    "df92.head()"
   ]
  },
  {
   "cell_type": "code",
   "execution_count": 270,
   "metadata": {},
   "outputs": [],
   "source": [
    "# Number of customers\n",
    "df_clusters = df92[['customer_id', 'cluster']].groupby('cluster').count().reset_index()\n",
    "\n",
    "# Number of customers (%)\n",
    "df_clusters['% customer_id'] = (df_clusters[['customer_id']] / df_clusters[['customer_id']].sum()) * 100\n",
    "\n",
    "# Average gross revenue\n",
    "aux1 = df92[['gross_revenue', 'cluster']].groupby('cluster').mean().reset_index()\n",
    "\n",
    "# % Gross revenue\n",
    "aux2 = (df92[['cluster', 'gross_revenue']].groupby('cluster').sum() / df92['gross_revenue'].sum()).reset_index().rename(columns={'gross_revenue': '% gross_revenue'})\n",
    "\n",
    "# Average recency\n",
    "aux3 = df92[['recency', 'cluster']].groupby('cluster').mean().reset_index()\n",
    "\n",
    "# Average invoice no\n",
    "#aux4 = df92[['qtd_invoices', 'cluster']].groupby('cluster').mean().reset_index()\n",
    "\n",
    "# Average qtd_products\n",
    "aux4 = df92[['qtd_products', 'cluster']].groupby('cluster').mean().reset_index()\n",
    "\n",
    "# Average frequency\n",
    "aux5 = df92[['frequency', 'cluster']].groupby('cluster').mean().reset_index()\n",
    "\n",
    "# Average returns\n",
    "aux6 = df92[['returns', 'cluster']].groupby('cluster').mean().reset_index()"
   ]
  },
  {
   "cell_type": "code",
   "execution_count": 271,
   "metadata": {},
   "outputs": [],
   "source": [
    "df_clusters = pd.merge(df_clusters, aux1, on='cluster', how='left')\n",
    "df_clusters = pd.merge(df_clusters, aux2, on='cluster', how='left')\n",
    "df_clusters = pd.merge(df_clusters, aux3, on='cluster', how='left')\n",
    "df_clusters = pd.merge(df_clusters, aux4, on='cluster', how='left')\n",
    "df_clusters = pd.merge(df_clusters, aux5, on='cluster', how='left')\n",
    "df_clusters = pd.merge(df_clusters, aux6, on='cluster', how='left')"
   ]
  },
  {
   "cell_type": "code",
   "execution_count": 272,
   "metadata": {},
   "outputs": [
    {
     "data": {
      "text/html": [
       "<div>\n",
       "<style scoped>\n",
       "    .dataframe tbody tr th:only-of-type {\n",
       "        vertical-align: middle;\n",
       "    }\n",
       "\n",
       "    .dataframe tbody tr th {\n",
       "        vertical-align: top;\n",
       "    }\n",
       "\n",
       "    .dataframe thead th {\n",
       "        text-align: right;\n",
       "    }\n",
       "</style>\n",
       "<table border=\"1\" class=\"dataframe\">\n",
       "  <thead>\n",
       "    <tr style=\"text-align: right;\">\n",
       "      <th></th>\n",
       "      <th>cluster</th>\n",
       "      <th>customer_id</th>\n",
       "      <th>% customer_id</th>\n",
       "      <th>gross_revenue</th>\n",
       "      <th>% gross_revenue</th>\n",
       "      <th>recency</th>\n",
       "      <th>qtd_products</th>\n",
       "      <th>frequency</th>\n",
       "      <th>returns</th>\n",
       "    </tr>\n",
       "  </thead>\n",
       "  <tbody>\n",
       "    <tr>\n",
       "      <th>0</th>\n",
       "      <td>1</td>\n",
       "      <td>793</td>\n",
       "      <td>13.926941</td>\n",
       "      <td>6757.437251</td>\n",
       "      <td>0.530323</td>\n",
       "      <td>51.349306</td>\n",
       "      <td>346.703657</td>\n",
       "      <td>0.210770</td>\n",
       "      <td>194.247163</td>\n",
       "    </tr>\n",
       "    <tr>\n",
       "      <th>1</th>\n",
       "      <td>3</td>\n",
       "      <td>727</td>\n",
       "      <td>12.767826</td>\n",
       "      <td>1804.790110</td>\n",
       "      <td>0.129851</td>\n",
       "      <td>88.815681</td>\n",
       "      <td>148.491059</td>\n",
       "      <td>0.401121</td>\n",
       "      <td>3.469051</td>\n",
       "    </tr>\n",
       "    <tr>\n",
       "      <th>2</th>\n",
       "      <td>6</td>\n",
       "      <td>1201</td>\n",
       "      <td>21.092378</td>\n",
       "      <td>1606.956928</td>\n",
       "      <td>0.191000</td>\n",
       "      <td>128.412157</td>\n",
       "      <td>69.634471</td>\n",
       "      <td>0.620146</td>\n",
       "      <td>5.217319</td>\n",
       "    </tr>\n",
       "    <tr>\n",
       "      <th>3</th>\n",
       "      <td>0</td>\n",
       "      <td>563</td>\n",
       "      <td>9.887601</td>\n",
       "      <td>1179.743197</td>\n",
       "      <td>0.065733</td>\n",
       "      <td>71.348135</td>\n",
       "      <td>51.635879</td>\n",
       "      <td>0.108116</td>\n",
       "      <td>9.587922</td>\n",
       "    </tr>\n",
       "    <tr>\n",
       "      <th>4</th>\n",
       "      <td>4</td>\n",
       "      <td>165</td>\n",
       "      <td>2.897787</td>\n",
       "      <td>885.774121</td>\n",
       "      <td>0.014464</td>\n",
       "      <td>77.866667</td>\n",
       "      <td>28.363636</td>\n",
       "      <td>0.027377</td>\n",
       "      <td>3.430303</td>\n",
       "    </tr>\n",
       "    <tr>\n",
       "      <th>5</th>\n",
       "      <td>7</td>\n",
       "      <td>454</td>\n",
       "      <td>7.973305</td>\n",
       "      <td>616.417819</td>\n",
       "      <td>0.027696</td>\n",
       "      <td>98.960352</td>\n",
       "      <td>14.389868</td>\n",
       "      <td>0.033093</td>\n",
       "      <td>8.044053</td>\n",
       "    </tr>\n",
       "    <tr>\n",
       "      <th>6</th>\n",
       "      <td>5</td>\n",
       "      <td>999</td>\n",
       "      <td>17.544784</td>\n",
       "      <td>303.613814</td>\n",
       "      <td>0.030017</td>\n",
       "      <td>146.172172</td>\n",
       "      <td>16.639640</td>\n",
       "      <td>0.932080</td>\n",
       "      <td>1.652653</td>\n",
       "    </tr>\n",
       "    <tr>\n",
       "      <th>7</th>\n",
       "      <td>2</td>\n",
       "      <td>792</td>\n",
       "      <td>13.909378</td>\n",
       "      <td>139.262487</td>\n",
       "      <td>0.010916</td>\n",
       "      <td>204.926768</td>\n",
       "      <td>5.016414</td>\n",
       "      <td>0.975042</td>\n",
       "      <td>4.669192</td>\n",
       "    </tr>\n",
       "  </tbody>\n",
       "</table>\n",
       "</div>"
      ],
      "text/plain": [
       "   cluster  customer_id  % customer_id  gross_revenue  % gross_revenue  \\\n",
       "0        1          793      13.926941    6757.437251         0.530323   \n",
       "1        3          727      12.767826    1804.790110         0.129851   \n",
       "2        6         1201      21.092378    1606.956928         0.191000   \n",
       "3        0          563       9.887601    1179.743197         0.065733   \n",
       "4        4          165       2.897787     885.774121         0.014464   \n",
       "5        7          454       7.973305     616.417819         0.027696   \n",
       "6        5          999      17.544784     303.613814         0.030017   \n",
       "7        2          792      13.909378     139.262487         0.010916   \n",
       "\n",
       "      recency  qtd_products  frequency     returns  \n",
       "0   51.349306    346.703657   0.210770  194.247163  \n",
       "1   88.815681    148.491059   0.401121    3.469051  \n",
       "2  128.412157     69.634471   0.620146    5.217319  \n",
       "3   71.348135     51.635879   0.108116    9.587922  \n",
       "4   77.866667     28.363636   0.027377    3.430303  \n",
       "5   98.960352     14.389868   0.033093    8.044053  \n",
       "6  146.172172     16.639640   0.932080    1.652653  \n",
       "7  204.926768      5.016414   0.975042    4.669192  "
      ]
     },
     "execution_count": 272,
     "metadata": {},
     "output_type": "execute_result"
    }
   ],
   "source": [
    "df_clusters_sorted = df_clusters.sort_values(by=['gross_revenue'], ascending=False).reset_index(drop=True)\n",
    "df_clusters_sorted"
   ]
  },
  {
   "cell_type": "code",
   "execution_count": 143,
   "metadata": {},
   "outputs": [],
   "source": [
    "insider_cluster_no = df_clusters_sorted.loc[0, 'cluster']"
   ]
  },
  {
   "cell_type": "markdown",
   "metadata": {},
   "source": [
    "| Cluster | Nome |\n",
    "|:-------:|------|\n",
    "| 6 | Insiders |\n",
    "| 1 | Spend more |\n",
    "| 2 | More products |\n",
    "| 5 | Even more spending |\n",
    "| 4 | Almost there |\n",
    "| 7 | Low buy and return |\n",
    "| 0 | No more return |\n",
    "| 3 | Lazzy boys |"
   ]
  },
  {
   "cell_type": "code",
   "execution_count": 273,
   "metadata": {},
   "outputs": [
    {
     "data": {
      "text/html": [
       "<div>\n",
       "<style scoped>\n",
       "    .dataframe tbody tr th:only-of-type {\n",
       "        vertical-align: middle;\n",
       "    }\n",
       "\n",
       "    .dataframe tbody tr th {\n",
       "        vertical-align: top;\n",
       "    }\n",
       "\n",
       "    .dataframe thead th {\n",
       "        text-align: right;\n",
       "    }\n",
       "</style>\n",
       "<table border=\"1\" class=\"dataframe\">\n",
       "  <thead>\n",
       "    <tr style=\"text-align: right;\">\n",
       "      <th></th>\n",
       "      <th>cluster</th>\n",
       "      <th>customer_id</th>\n",
       "      <th>% customer_id</th>\n",
       "      <th>gross_revenue</th>\n",
       "      <th>% gross_revenue</th>\n",
       "      <th>recency</th>\n",
       "      <th>qtd_products</th>\n",
       "      <th>frequency</th>\n",
       "      <th>returns</th>\n",
       "    </tr>\n",
       "  </thead>\n",
       "  <tbody>\n",
       "    <tr>\n",
       "      <th>0</th>\n",
       "      <td>1</td>\n",
       "      <td>793</td>\n",
       "      <td>13.926941</td>\n",
       "      <td>6757.437251</td>\n",
       "      <td>0.530323</td>\n",
       "      <td>51.349306</td>\n",
       "      <td>346.703657</td>\n",
       "      <td>0.210770</td>\n",
       "      <td>194.247163</td>\n",
       "    </tr>\n",
       "    <tr>\n",
       "      <th>1</th>\n",
       "      <td>3</td>\n",
       "      <td>727</td>\n",
       "      <td>12.767826</td>\n",
       "      <td>1804.790110</td>\n",
       "      <td>0.129851</td>\n",
       "      <td>88.815681</td>\n",
       "      <td>148.491059</td>\n",
       "      <td>0.401121</td>\n",
       "      <td>3.469051</td>\n",
       "    </tr>\n",
       "    <tr>\n",
       "      <th>2</th>\n",
       "      <td>6</td>\n",
       "      <td>1201</td>\n",
       "      <td>21.092378</td>\n",
       "      <td>1606.956928</td>\n",
       "      <td>0.191000</td>\n",
       "      <td>128.412157</td>\n",
       "      <td>69.634471</td>\n",
       "      <td>0.620146</td>\n",
       "      <td>5.217319</td>\n",
       "    </tr>\n",
       "    <tr>\n",
       "      <th>3</th>\n",
       "      <td>0</td>\n",
       "      <td>563</td>\n",
       "      <td>9.887601</td>\n",
       "      <td>1179.743197</td>\n",
       "      <td>0.065733</td>\n",
       "      <td>71.348135</td>\n",
       "      <td>51.635879</td>\n",
       "      <td>0.108116</td>\n",
       "      <td>9.587922</td>\n",
       "    </tr>\n",
       "    <tr>\n",
       "      <th>4</th>\n",
       "      <td>4</td>\n",
       "      <td>165</td>\n",
       "      <td>2.897787</td>\n",
       "      <td>885.774121</td>\n",
       "      <td>0.014464</td>\n",
       "      <td>77.866667</td>\n",
       "      <td>28.363636</td>\n",
       "      <td>0.027377</td>\n",
       "      <td>3.430303</td>\n",
       "    </tr>\n",
       "    <tr>\n",
       "      <th>5</th>\n",
       "      <td>7</td>\n",
       "      <td>454</td>\n",
       "      <td>7.973305</td>\n",
       "      <td>616.417819</td>\n",
       "      <td>0.027696</td>\n",
       "      <td>98.960352</td>\n",
       "      <td>14.389868</td>\n",
       "      <td>0.033093</td>\n",
       "      <td>8.044053</td>\n",
       "    </tr>\n",
       "    <tr>\n",
       "      <th>6</th>\n",
       "      <td>5</td>\n",
       "      <td>999</td>\n",
       "      <td>17.544784</td>\n",
       "      <td>303.613814</td>\n",
       "      <td>0.030017</td>\n",
       "      <td>146.172172</td>\n",
       "      <td>16.639640</td>\n",
       "      <td>0.932080</td>\n",
       "      <td>1.652653</td>\n",
       "    </tr>\n",
       "    <tr>\n",
       "      <th>7</th>\n",
       "      <td>2</td>\n",
       "      <td>792</td>\n",
       "      <td>13.909378</td>\n",
       "      <td>139.262487</td>\n",
       "      <td>0.010916</td>\n",
       "      <td>204.926768</td>\n",
       "      <td>5.016414</td>\n",
       "      <td>0.975042</td>\n",
       "      <td>4.669192</td>\n",
       "    </tr>\n",
       "  </tbody>\n",
       "</table>\n",
       "</div>"
      ],
      "text/plain": [
       "   cluster  customer_id  % customer_id  gross_revenue  % gross_revenue  \\\n",
       "0        1          793      13.926941    6757.437251         0.530323   \n",
       "1        3          727      12.767826    1804.790110         0.129851   \n",
       "2        6         1201      21.092378    1606.956928         0.191000   \n",
       "3        0          563       9.887601    1179.743197         0.065733   \n",
       "4        4          165       2.897787     885.774121         0.014464   \n",
       "5        7          454       7.973305     616.417819         0.027696   \n",
       "6        5          999      17.544784     303.613814         0.030017   \n",
       "7        2          792      13.909378     139.262487         0.010916   \n",
       "\n",
       "      recency  qtd_products  frequency     returns  \n",
       "0   51.349306    346.703657   0.210770  194.247163  \n",
       "1   88.815681    148.491059   0.401121    3.469051  \n",
       "2  128.412157     69.634471   0.620146    5.217319  \n",
       "3   71.348135     51.635879   0.108116    9.587922  \n",
       "4   77.866667     28.363636   0.027377    3.430303  \n",
       "5   98.960352     14.389868   0.033093    8.044053  \n",
       "6  146.172172     16.639640   0.932080    1.652653  \n",
       "7  204.926768      5.016414   0.975042    4.669192  "
      ]
     },
     "execution_count": 273,
     "metadata": {},
     "output_type": "execute_result"
    }
   ],
   "source": [
    "df_clusters_sorted"
   ]
  },
  {
   "cell_type": "markdown",
   "metadata": {},
   "source": [
    "---\n",
    "\n",
    "**Cluster 3 (candidatos à insiders)**:\n",
    "- Número de customers: 468 (15,78%)\n",
    "- Faturamento médio: US$ 8.835,98\n",
    "- Recência média: 21,45\n",
    "- Média de compras: 424,12\n",
    "- Frequência de compra: 0,065 produtos/dia\n",
    "---"
   ]
  },
  {
   "cell_type": "markdown",
   "metadata": {},
   "source": [
    "# 10. Exploratory Data Analisys"
   ]
  },
  {
   "cell_type": "code",
   "execution_count": 145,
   "metadata": {},
   "outputs": [
    {
     "data": {
      "text/html": [
       "<div>\n",
       "<style scoped>\n",
       "    .dataframe tbody tr th:only-of-type {\n",
       "        vertical-align: middle;\n",
       "    }\n",
       "\n",
       "    .dataframe tbody tr th {\n",
       "        vertical-align: top;\n",
       "    }\n",
       "\n",
       "    .dataframe thead th {\n",
       "        text-align: right;\n",
       "    }\n",
       "</style>\n",
       "<table border=\"1\" class=\"dataframe\">\n",
       "  <thead>\n",
       "    <tr style=\"text-align: right;\">\n",
       "      <th></th>\n",
       "      <th>customer_id</th>\n",
       "      <th>gross_revenue</th>\n",
       "      <th>recency</th>\n",
       "      <th>qtd_products</th>\n",
       "      <th>frequency</th>\n",
       "      <th>returns</th>\n",
       "      <th>cluster</th>\n",
       "    </tr>\n",
       "  </thead>\n",
       "  <tbody>\n",
       "    <tr>\n",
       "      <th>0</th>\n",
       "      <td>17850</td>\n",
       "      <td>5391.21</td>\n",
       "      <td>372.0</td>\n",
       "      <td>297.0</td>\n",
       "      <td>0.486111</td>\n",
       "      <td>40.0</td>\n",
       "      <td>6</td>\n",
       "    </tr>\n",
       "    <tr>\n",
       "      <th>1</th>\n",
       "      <td>13047</td>\n",
       "      <td>3232.59</td>\n",
       "      <td>56.0</td>\n",
       "      <td>171.0</td>\n",
       "      <td>0.048780</td>\n",
       "      <td>35.0</td>\n",
       "      <td>1</td>\n",
       "    </tr>\n",
       "    <tr>\n",
       "      <th>2</th>\n",
       "      <td>12583</td>\n",
       "      <td>6705.38</td>\n",
       "      <td>2.0</td>\n",
       "      <td>232.0</td>\n",
       "      <td>0.045699</td>\n",
       "      <td>50.0</td>\n",
       "      <td>6</td>\n",
       "    </tr>\n",
       "    <tr>\n",
       "      <th>3</th>\n",
       "      <td>13748</td>\n",
       "      <td>948.25</td>\n",
       "      <td>95.0</td>\n",
       "      <td>28.0</td>\n",
       "      <td>0.017921</td>\n",
       "      <td>0.0</td>\n",
       "      <td>0</td>\n",
       "    </tr>\n",
       "    <tr>\n",
       "      <th>4</th>\n",
       "      <td>15100</td>\n",
       "      <td>876.00</td>\n",
       "      <td>333.0</td>\n",
       "      <td>3.0</td>\n",
       "      <td>0.136364</td>\n",
       "      <td>22.0</td>\n",
       "      <td>3</td>\n",
       "    </tr>\n",
       "  </tbody>\n",
       "</table>\n",
       "</div>"
      ],
      "text/plain": [
       "   customer_id  gross_revenue  recency  qtd_products  frequency  returns  \\\n",
       "0        17850        5391.21    372.0         297.0   0.486111     40.0   \n",
       "1        13047        3232.59     56.0         171.0   0.048780     35.0   \n",
       "2        12583        6705.38      2.0         232.0   0.045699     50.0   \n",
       "3        13748         948.25     95.0          28.0   0.017921      0.0   \n",
       "4        15100         876.00    333.0           3.0   0.136364     22.0   \n",
       "\n",
       "   cluster  \n",
       "0        6  \n",
       "1        1  \n",
       "2        6  \n",
       "3        0  \n",
       "4        3  "
      ]
     },
     "execution_count": 145,
     "metadata": {},
     "output_type": "execute_result"
    }
   ],
   "source": [
    "df10 = df92.copy()\n",
    "df10.head()"
   ]
  },
  {
   "cell_type": "markdown",
   "metadata": {},
   "source": [
    "## 10.1. MindMap de hipóteses"
   ]
  },
  {
   "cell_type": "markdown",
   "metadata": {},
   "source": [
    "1. Fenômeno\n",
    "2. Entidades (customer, location, finance, family)\n",
    "3. Características da entidade --> Ex.: customer=(nome, idade, salário, escolaridade)"
   ]
  },
  {
   "cell_type": "markdown",
   "metadata": {},
   "source": [
    "## 10.2. Hipóteses de negócio"
   ]
  },
  {
   "attachments": {
    "Clusterização de clientes de um e-commerce.png": {
     "image/png": "[encoded data removed]"
    }
   },
   "cell_type": "markdown",
   "metadata": {},
   "source": [
    "![Clusterização de clientes de um e-commerce.png](<attachment:Clusterização de clientes de um e-commerce.png>)"
   ]
  },
  {
   "cell_type": "markdown",
   "metadata": {},
   "source": [
    "1. Afirmação\n",
    "2. Comparação entre variáveis\n",
    "3. Valor base de comparação\n",
    "\n",
    "Cluster | Variável para testar | Base comparação"
   ]
  },
  {
   "cell_type": "markdown",
   "metadata": {},
   "source": [
    "### 10.2.1 Hipótese Compra"
   ]
  },
  {
   "cell_type": "markdown",
   "metadata": {},
   "source": [
    "1. Os clientes do cluster Insiders usam cartão de crédito em 80% das compras.\n",
    "2. Os clientes do cluster Insiders possuem um ticket médio de 10% acima do cluster Spend more.\n",
    "3. Os clientes do cluster Insiders possuem um basket size médio acime de 5 produtos.\n",
    "4. **Os clientes do cluster Insiders representam mais de 10% do volume (produtos) total de compras.**\n",
    "5. **Os clientes do cluster Insiders representam mais de 10% do volume (faturamento) total de compras.**\n",
    "6. **Os clientes do cluster Insiders tem a quantidade média de devoluções abaixo da média da base total de clientes.**\n",
    "7. **A mediana do faturamento pelos clientes do cluster Insiders é 10% maior do que a mediana do faturamento geral.**\n",
    "8. **O percentil do GMV pelos clientes do cluster Insiders.**"
   ]
  },
  {
   "cell_type": "markdown",
   "metadata": {},
   "source": [
    "### H1: Os clientes do cluster Insiders representam mais de 10% do volume (produtos) total de compras\n",
    "**Verdadeiro:** O cluster Insiders representa 54,49% do total de compras."
   ]
  },
  {
   "cell_type": "code",
   "execution_count": 146,
   "metadata": {},
   "outputs": [
    {
     "name": "stdout",
     "output_type": "stream",
     "text": [
      "O volume de produtos dos insiders representa 54.49% do total de compras.\n"
     ]
    }
   ],
   "source": [
    "total = df10['qtd_products'].sum()\n",
    "insiders = df10.query('cluster == @insider_cluster_no')['qtd_products'].sum()\n",
    "print(f'O volume de produtos dos insiders representa {(insiders/total)*100:.2f}% do total de compras.')"
   ]
  },
  {
   "cell_type": "markdown",
   "metadata": {},
   "source": [
    "### H2: Os clientes do cluster Insiders representam mais de 10% do volume (faturamento) total de compras\n",
    "**Verdadeiro:** O cluster Insiders representa 51,74% do total de compras."
   ]
  },
  {
   "cell_type": "code",
   "execution_count": 147,
   "metadata": {},
   "outputs": [
    {
     "name": "stdout",
     "output_type": "stream",
     "text": [
      "O volume de receita com os insiders representa 51.74% do total de compras.\n"
     ]
    }
   ],
   "source": [
    "total = df10['gross_revenue'].sum()\n",
    "insiders = df10.query('cluster == @insider_cluster_no')['gross_revenue'].sum()\n",
    "print(f'O volume de receita com os insiders representa {(insiders/total)*100:.2f}% do total de compras.')"
   ]
  },
  {
   "cell_type": "markdown",
   "metadata": {},
   "source": [
    "### H3: Os clientes do cluster Insiders tem a quantidade média de devoluções abaixo da média da base total de clientes.\n",
    "**Falsa:** A média de devoluções do cluster Insiders é 428.60% maior do que a média total."
   ]
  },
  {
   "cell_type": "code",
   "execution_count": 148,
   "metadata": {},
   "outputs": [
    {
     "name": "stdout",
     "output_type": "stream",
     "text": [
      "Média total: 34.83\n",
      "Média dos Insiders: 149.27\n",
      "A média de devoluções do cluster Insiders é 428.60% maior do que a média total.\n"
     ]
    }
   ],
   "source": [
    "total_avg_return = df10['returns'].mean()\n",
    "insiders_avg_return = df10.query('cluster == @insider_cluster_no')['returns'].mean()\n",
    "print(f'Média total: {total_avg_return:.2f}')\n",
    "print(f'Média dos Insiders: {insiders_avg_return:.2f}')\n",
    "print(f'A média de devoluções do cluster Insiders é {(insiders_avg_return/total_avg_return)*100:.2f}% maior do que a média total.')"
   ]
  },
  {
   "cell_type": "markdown",
   "metadata": {},
   "source": [
    "### H4: A mediana do faturamento dos clientes do cluster Insiders é 10% maior do que a mediana do faturamento geral.\n",
    "**Verdadeira:** A mediana dos Insiders é 275,99% maior do que a mediana total."
   ]
  },
  {
   "cell_type": "code",
   "execution_count": 149,
   "metadata": {},
   "outputs": [
    {
     "name": "stdout",
     "output_type": "stream",
     "text": [
      "275.99%\n"
     ]
    }
   ],
   "source": [
    "# mediana de gmv Insiders\n",
    "median_gmv_insiders = df10.query('cluster == @insider_cluster_no')['gross_revenue'].median()\n",
    "\n",
    "# mediana de gmv total\n",
    "median_gmv_total = df10['gross_revenue'].median()\n",
    "\n",
    "diff_median = ((median_gmv_insiders - median_gmv_total) / median_gmv_total) * 100\n",
    "\n",
    "print(f'{diff_median:.2f}%')"
   ]
  },
  {
   "cell_type": "markdown",
   "metadata": {},
   "source": [
    "### H5: O percentil do GMV pelos clientes do cluster Insiders está concentrada no quartil 3.\n",
    "**Falsa:** O faturamento está concentrado no quartil 1"
   ]
  },
  {
   "cell_type": "code",
   "execution_count": 150,
   "metadata": {},
   "outputs": [
    {
     "data": {
      "text/plain": [
       "617.56155"
      ]
     },
     "execution_count": 150,
     "metadata": {},
     "output_type": "execute_result"
    }
   ],
   "source": [
    "np.percentile(df10.query('cluster == @insider_cluster_no')['gross_revenue'], q=0.1)"
   ]
  },
  {
   "cell_type": "code",
   "execution_count": 151,
   "metadata": {},
   "outputs": [
    {
     "data": {
      "text/plain": [
       "823.98433"
      ]
     },
     "execution_count": 151,
     "metadata": {},
     "output_type": "execute_result"
    }
   ],
   "source": [
    "np.percentile(df10.query('cluster == @insider_cluster_no')['gross_revenue'], q=0.9)"
   ]
  },
  {
   "cell_type": "code",
   "execution_count": 152,
   "metadata": {},
   "outputs": [
    {
     "data": {
      "text/plain": [
       "<Axes: xlabel='gross_revenue'>"
      ]
     },
     "execution_count": 152,
     "metadata": {},
     "output_type": "execute_result"
    },
    {
     "data": {
      "image/png": "[encoded data removed]",
      "text/plain": [
       "<Figure size 800x550 with 1 Axes>"
      ]
     },
     "metadata": {},
     "output_type": "display_data"
    }
   ],
   "source": [
    "sns.violinplot(x=df10.query('cluster == @insider_cluster_no & gross_revenue < 50000')['gross_revenue'], inner='quart')"
   ]
  },
  {
   "cell_type": "markdown",
   "metadata": {},
   "source": [
    "### 10.2.2. Hipótese Cliente"
   ]
  },
  {
   "cell_type": "markdown",
   "metadata": {},
   "source": [
    "1. 60% dos clientes do cluster Insiders são solteiros.\n",
    "2. 10% dos clientes do cluster Insiders estão na faixa de 24-35 anos.\n",
    "3. 40% dos clientes do cluster Insiders possuem localidade de entrega dentro de um raio de 50 km.\n",
    "4. 5% dos clientes do cluster Insiders recebem mais de US$ 100k anual.\n",
    "5. 90% dos clientes do cluster Insiders possuem ensino superior completo."
   ]
  },
  {
   "cell_type": "markdown",
   "metadata": {},
   "source": [
    "### 10.2.3. Hipótese Produto"
   ]
  },
  {
   "cell_type": "markdown",
   "metadata": {},
   "source": [
    "1. 30% dos produtos em pacotes grandes são comprados pelos clientes do cluster Insiders.\n",
    "2. A mediana dos preços dos produtos comprados pelos clientes do cluster Insiders é 10% maior do que a mediana de todos os preços dos produtos\n",
    "3. O percentil do preço dos produtos comprados pelos clientes do cluster Insiders.\n",
    "4. O peso médio dos produtos comprados pelos clientes do cluster Insiders é maior do que o peso médio dos demais clusters.\n",
    "5. A idade média dos produtos comprados pelos clientes do cluster Insiders é menor do que 15 dias."
   ]
  },
  {
   "cell_type": "markdown",
   "metadata": {},
   "source": [
    "### 10.2.4. Perguntas de negócio"
   ]
  },
  {
   "cell_type": "markdown",
   "metadata": {},
   "source": [
    "#### 1. Quem são as pessoas elegíveis para participar do programa?"
   ]
  },
  {
   "cell_type": "code",
   "execution_count": 153,
   "metadata": {},
   "outputs": [
    {
     "data": {
      "text/plain": [
       "0     17850\n",
       "2     12583\n",
       "6     14688\n",
       "8     15311\n",
       "12    16029\n",
       "Name: customer_id, dtype: int64"
      ]
     },
     "execution_count": 153,
     "metadata": {},
     "output_type": "execute_result"
    }
   ],
   "source": [
    "df10.query('cluster == @insider_cluster_no')['customer_id'].head()"
   ]
  },
  {
   "cell_type": "markdown",
   "metadata": {},
   "source": [
    "#### 2. Quantos clientes farão parte do grupo?"
   ]
  },
  {
   "cell_type": "code",
   "execution_count": 154,
   "metadata": {},
   "outputs": [
    {
     "data": {
      "text/plain": [
       "468"
      ]
     },
     "execution_count": 154,
     "metadata": {},
     "output_type": "execute_result"
    }
   ],
   "source": [
    "df10.query('cluster == @insider_cluster_no')['customer_id'].nunique()"
   ]
  },
  {
   "cell_type": "markdown",
   "metadata": {},
   "source": [
    "#### 3. Quais as principais características desses clientes?"
   ]
  },
  {
   "cell_type": "markdown",
   "metadata": {},
   "source": [
    "**Cluster Insiders**:\n",
    "- Número de customers: 468 (15,78%)\n",
    "- Faturamento médio: US$ 8.835,98\n",
    "- Recência média: 21,45\n",
    "- Média de compras: 424,12\n",
    "- Frequência de compra: 0,065 produtos/dia\n",
    "---"
   ]
  },
  {
   "cell_type": "markdown",
   "metadata": {},
   "source": [
    "#### 4. Qual a porcentagem de contribuição dos insiders no faturamento?"
   ]
  },
  {
   "cell_type": "code",
   "execution_count": 155,
   "metadata": {},
   "outputs": [
    {
     "name": "stdout",
     "output_type": "stream",
     "text": [
      "O volume de receita com os insiders representa 51.74% do total de compras.\n"
     ]
    }
   ],
   "source": [
    "total = df10['gross_revenue'].sum()\n",
    "insiders = df10.query('cluster == @insider_cluster_no')['gross_revenue'].sum()\n",
    "print(f'O volume de receita com os insiders representa {(insiders/total)*100:.2f}% do total de compras.')"
   ]
  },
  {
   "cell_type": "markdown",
   "metadata": {},
   "source": [
    "#### 5. Qual a expectativa de faturamento desse grupo para os próximos meses?"
   ]
  },
  {
   "cell_type": "markdown",
   "metadata": {},
   "source": [
    "#### 6. Quais as condições para uma pessoa ser elegível ao grupo?"
   ]
  },
  {
   "cell_type": "markdown",
   "metadata": {},
   "source": [
    "#### 7. Quais as condições para uma pessoa ser removida do grupo?"
   ]
  },
  {
   "cell_type": "markdown",
   "metadata": {},
   "source": [
    "#### 8. Qual a garantia que o programa é melhor que o restante da base?"
   ]
  },
  {
   "cell_type": "markdown",
   "metadata": {},
   "source": [
    "#### 9. Quais ações o time de marketing pode realizar para aumentar o faturamento?"
   ]
  },
  {
   "cell_type": "markdown",
   "metadata": {},
   "source": [
    "## 10.3. Priorização das hipóteses"
   ]
  },
  {
   "cell_type": "markdown",
   "metadata": {},
   "source": [
    "## 10.4. Validação das hipóteses"
   ]
  },
  {
   "cell_type": "markdown",
   "metadata": {},
   "source": [
    "## 10.5. Quadro de resultados"
   ]
  },
  {
   "cell_type": "markdown",
   "metadata": {},
   "source": [
    "# 11. Deploy to Production"
   ]
  },
  {
   "cell_type": "markdown",
   "metadata": {},
   "source": []
  }
 ],
 "metadata": {
  "kernelspec": {
   "display_name": "Python 3 (ipykernel)",
   "language": "python",
   "name": "python3"
  },
  "language_info": {
   "codemirror_mode": {
    "name": "ipython",
    "version": 3
   },
   "file_extension": ".py",
   "mimetype": "text/x-python",
   "name": "python",
   "nbconvert_exporter": "python",
   "pygments_lexer": "ipython3",
   "version": "3.10.12"
  }
 },
 "nbformat": 4,
 "nbformat_minor": 4
}
